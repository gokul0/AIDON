{
 "cells": [
  {
   "cell_type": "code",
   "execution_count": 2,
   "metadata": {},
   "outputs": [],
   "source": [
    "import requests\n",
    "headers = {'x-api-key':'your_key'}\n",
    "payload = {\n",
    "    'lat':34.071783,\n",
    "    'lng':-118.2596,\n",
    "    'searchtype':'addresscoord',\n",
    "    'getloma':'False'\n",
    "    }\n",
    "s = requests.get('https://api.nationalflooddata.com/data',headers=headers,params=payload)"
   ]
  },
  {
   "cell_type": "code",
   "execution_count": 1,
   "metadata": {},
   "outputs": [
    {
     "name": "stdout",
     "output_type": "stream",
     "text": [
      "Collecting predicthq\n",
      "  Downloading https://files.pythonhosted.org/packages/5c/ad/56245d2333a9b6c83dbf04befefae5f56ec0519d6702fb2e56256be86ad0/predicthq-0.3.0-py2.py3-none-any.whl\n",
      "Requirement already satisfied: python-dateutil>=2.4.2 in c:\\users\\gokul\\appdata\\local\\continuum\\anaconda3\\envs\\callforcode\\lib\\site-packages (from predicthq) (2.8.0)\n",
      "Collecting requests>=2.7.0 (from predicthq)\n",
      "  Downloading https://files.pythonhosted.org/packages/51/bd/23c926cd341ea6b7dd0b2a00aba99ae0f828be89d72b2190f27c11d4b7fb/requests-2.22.0-py2.py3-none-any.whl (57kB)\n",
      "Collecting pytz>=2015.4 (from predicthq)\n",
      "  Downloading https://files.pythonhosted.org/packages/87/76/46d697698a143e05f77bec5a526bf4e56a0be61d63425b68f4ba553b51f2/pytz-2019.2-py2.py3-none-any.whl (508kB)\n",
      "Collecting schematics==2.0.0.dev2 (from predicthq)\n",
      "  Downloading https://files.pythonhosted.org/packages/7d/ad/8f209a1116ac4a4db31eafdb5d1aa760ea3c22b62a0e8ba10d4ec3cfb1f9/schematics-2.0.0.dev2-py2.py3-none-any.whl\n",
      "Requirement already satisfied: six>=1.9.0 in c:\\users\\gokul\\appdata\\local\\continuum\\anaconda3\\envs\\callforcode\\lib\\site-packages (from predicthq) (1.12.0)\n",
      "Collecting urllib3!=1.25.0,!=1.25.1,<1.26,>=1.21.1 (from requests>=2.7.0->predicthq)\n",
      "  Downloading https://files.pythonhosted.org/packages/e6/60/247f23a7121ae632d62811ba7f273d0e58972d75e58a94d329d51550a47d/urllib3-1.25.3-py2.py3-none-any.whl (150kB)\n",
      "Collecting chardet<3.1.0,>=3.0.2 (from requests>=2.7.0->predicthq)\n",
      "  Downloading https://files.pythonhosted.org/packages/bc/a9/01ffebfb562e4274b6487b4bb1ddec7ca55ec7510b22e4c51f14098443b8/chardet-3.0.4-py2.py3-none-any.whl (133kB)\n",
      "Requirement already satisfied: certifi>=2017.4.17 in c:\\users\\gokul\\appdata\\local\\continuum\\anaconda3\\envs\\callforcode\\lib\\site-packages (from requests>=2.7.0->predicthq) (2019.6.16)\n",
      "Collecting idna<2.9,>=2.5 (from requests>=2.7.0->predicthq)\n",
      "  Downloading https://files.pythonhosted.org/packages/14/2c/cd551d81dbe15200be1cf41cd03869a46fe7226e7450af7a6545bfc474c9/idna-2.8-py2.py3-none-any.whl (58kB)\n",
      "Installing collected packages: urllib3, chardet, idna, requests, pytz, schematics, predicthq\n",
      "Successfully installed chardet-3.0.4 idna-2.8 predicthq-0.3.0 pytz-2019.2 requests-2.22.0 schematics-2.0.0.dev2 urllib3-1.25.3\n",
      "Note: you may need to restart the kernel to use updated packages.\n"
     ]
    }
   ],
   "source": [
    "pip install predicthq"
   ]
  },
  {
   "cell_type": "code",
   "execution_count": 2,
   "metadata": {},
   "outputs": [],
   "source": [
    "from predicthq import Client\n",
    "\n",
    "phq = Client(access_token=\"80h2v8Pl6eeevIY2us9fXMe7vfMHJkdcAL8gElws\")\n",
    "\n",
    "for event in phq.events.search(q=\"Storm\", rank_level=[4, 5], country='US'):\n",
    "    print(event.rank, event.category, event.title, event.start.strftime('%Y-%m-%d'))"
   ]
  },
  {
   "cell_type": "code",
   "execution_count": 22,
   "metadata": {},
   "outputs": [],
   "source": [
    "x=''\n",
    "for event in phq.events.search(q=\"landslides\", rank_level=[4, 5], country='US'):\n",
    "    x = event\n",
    "    print(event.rank, event.category, event.title, event.start.strftime('%Y-%m-%d'))"
   ]
  },
  {
   "cell_type": "code",
   "execution_count": 8,
   "metadata": {},
   "outputs": [],
   "source": [
    "#GLOBAL_VAR\n",
    "PREDICTION_THRESHOLD = 4\n",
    "RESOURCES_INFO_ENDPOINT = 'http://10.157.186.185/3000'"
   ]
  },
  {
   "cell_type": "code",
   "execution_count": 3,
   "metadata": {},
   "outputs": [],
   "source": [
    "import pandas as pd\n",
    "data = pd.read_csv('./AEGISDataset.csv')"
   ]
  },
  {
   "cell_type": "code",
   "execution_count": 3,
   "metadata": {},
   "outputs": [
    {
     "data": {
      "text/html": [
       "<div>\n",
       "<style scoped>\n",
       "    .dataframe tbody tr th:only-of-type {\n",
       "        vertical-align: middle;\n",
       "    }\n",
       "\n",
       "    .dataframe tbody tr th {\n",
       "        vertical-align: top;\n",
       "    }\n",
       "\n",
       "    .dataframe thead th {\n",
       "        text-align: right;\n",
       "    }\n",
       "</style>\n",
       "<table border=\"1\" class=\"dataframe\">\n",
       "  <thead>\n",
       "    <tr style=\"text-align: right;\">\n",
       "      <th></th>\n",
       "      <th>lat</th>\n",
       "      <th>lon</th>\n",
       "      <th>flood_heig</th>\n",
       "      <th>elevation</th>\n",
       "      <th>precipitat</th>\n",
       "    </tr>\n",
       "  </thead>\n",
       "  <tbody>\n",
       "    <tr>\n",
       "      <td>count</td>\n",
       "      <td>3510.000000</td>\n",
       "      <td>3510.000000</td>\n",
       "      <td>3510.000000</td>\n",
       "      <td>3510.000000</td>\n",
       "      <td>3510.000000</td>\n",
       "    </tr>\n",
       "    <tr>\n",
       "      <td>mean</td>\n",
       "      <td>14.587452</td>\n",
       "      <td>121.044725</td>\n",
       "      <td>2.296296</td>\n",
       "      <td>15.935203</td>\n",
       "      <td>9.816239</td>\n",
       "    </tr>\n",
       "    <tr>\n",
       "      <td>std</td>\n",
       "      <td>0.076546</td>\n",
       "      <td>0.051857</td>\n",
       "      <td>1.879215</td>\n",
       "      <td>16.126777</td>\n",
       "      <td>2.523668</td>\n",
       "    </tr>\n",
       "    <tr>\n",
       "      <td>min</td>\n",
       "      <td>14.318917</td>\n",
       "      <td>120.901258</td>\n",
       "      <td>0.000000</td>\n",
       "      <td>0.000000</td>\n",
       "      <td>0.000000</td>\n",
       "    </tr>\n",
       "    <tr>\n",
       "      <td>25%</td>\n",
       "      <td>14.554644</td>\n",
       "      <td>121.004538</td>\n",
       "      <td>1.000000</td>\n",
       "      <td>6.804772</td>\n",
       "      <td>8.000000</td>\n",
       "    </tr>\n",
       "    <tr>\n",
       "      <td>50%</td>\n",
       "      <td>14.588837</td>\n",
       "      <td>121.051632</td>\n",
       "      <td>2.000000</td>\n",
       "      <td>9.745048</td>\n",
       "      <td>9.000000</td>\n",
       "    </tr>\n",
       "    <tr>\n",
       "      <td>75%</td>\n",
       "      <td>14.633395</td>\n",
       "      <td>121.087746</td>\n",
       "      <td>3.000000</td>\n",
       "      <td>15.439678</td>\n",
       "      <td>11.000000</td>\n",
       "    </tr>\n",
       "    <tr>\n",
       "      <td>max</td>\n",
       "      <td>14.807192</td>\n",
       "      <td>121.142470</td>\n",
       "      <td>8.000000</td>\n",
       "      <td>91.833778</td>\n",
       "      <td>21.000000</td>\n",
       "    </tr>\n",
       "  </tbody>\n",
       "</table>\n",
       "</div>"
      ],
      "text/plain": [
       "               lat          lon   flood_heig    elevation   precipitat\n",
       "count  3510.000000  3510.000000  3510.000000  3510.000000  3510.000000\n",
       "mean     14.587452   121.044725     2.296296    15.935203     9.816239\n",
       "std       0.076546     0.051857     1.879215    16.126777     2.523668\n",
       "min      14.318917   120.901258     0.000000     0.000000     0.000000\n",
       "25%      14.554644   121.004538     1.000000     6.804772     8.000000\n",
       "50%      14.588837   121.051632     2.000000     9.745048     9.000000\n",
       "75%      14.633395   121.087746     3.000000    15.439678    11.000000\n",
       "max      14.807192   121.142470     8.000000    91.833778    21.000000"
      ]
     },
     "execution_count": 3,
     "metadata": {},
     "output_type": "execute_result"
    }
   ],
   "source": [
    "data.describe()"
   ]
  },
  {
   "cell_type": "code",
   "execution_count": 36,
   "metadata": {},
   "outputs": [
    {
     "name": "stdout",
     "output_type": "stream",
     "text": [
      "Requirement already satisfied: numpy in c:\\users\\gokul\\appdata\\local\\continuum\\anaconda3\\envs\\callforcode\\lib\\site-packages (1.17.2)\n",
      "Note: you may need to restart the kernel to use updated packages.\n"
     ]
    }
   ],
   "source": [
    "pip install numpy"
   ]
  },
  {
   "cell_type": "code",
   "execution_count": 2,
   "metadata": {},
   "outputs": [],
   "source": [
    "import xgboost as xgb\n",
    "from sklearn.metrics import mean_squared_error\n",
    "import pandas as pd\n",
    "import numpy as np"
   ]
  },
  {
   "cell_type": "code",
   "execution_count": 3,
   "metadata": {},
   "outputs": [],
   "source": [
    "X, y = data.iloc[:,3:5], data.iloc[:, 3]"
   ]
  },
  {
   "cell_type": "code",
   "execution_count": 4,
   "metadata": {},
   "outputs": [
    {
     "name": "stderr",
     "output_type": "stream",
     "text": [
      "C:\\Users\\gokul\\AppData\\Local\\Continuum\\anaconda3\\envs\\callForCode\\lib\\site-packages\\xgboost\\core.py:587: FutureWarning: Series.base is deprecated and will be removed in a future version\n",
      "  if getattr(data, 'base', None) is not None and \\\n",
      "C:\\Users\\gokul\\AppData\\Local\\Continuum\\anaconda3\\envs\\callForCode\\lib\\site-packages\\xgboost\\core.py:588: FutureWarning: Series.base is deprecated and will be removed in a future version\n",
      "  data.base is not None and isinstance(data, np.ndarray) \\\n"
     ]
    }
   ],
   "source": [
    "data_dmatrix = xgb.DMatrix(data=X,label=y)"
   ]
  },
  {
   "cell_type": "code",
   "execution_count": 5,
   "metadata": {},
   "outputs": [],
   "source": [
    "from sklearn.model_selection import train_test_split\n",
    "\n",
    "X_train, X_test, y_train, y_test = train_test_split(X, y, test_size=0.2, random_state=123)"
   ]
  },
  {
   "cell_type": "code",
   "execution_count": 6,
   "metadata": {},
   "outputs": [],
   "source": [
    "xg_reg = xgb.XGBRegressor(objective ='reg:linear', colsample_bytree = 0.3, learning_rate = 0.1,\n",
    "                max_depth = 5, alpha = 10, n_estimators = 10)"
   ]
  },
  {
   "cell_type": "code",
   "execution_count": 7,
   "metadata": {},
   "outputs": [
    {
     "name": "stdout",
     "output_type": "stream",
     "text": [
      "[01:55:12] WARNING: C:/Jenkins/workspace/xgboost-win64_release_0.90/src/objective/regression_obj.cu:152: reg:linear is now deprecated in favor of reg:squarederror.\n"
     ]
    }
   ],
   "source": [
    "xg_reg.fit(X_train,y_train)\n",
    "\n",
    "preds = xg_reg.predict(X_test)"
   ]
  },
  {
   "cell_type": "code",
   "execution_count": 10,
   "metadata": {},
   "outputs": [
    {
     "data": {
      "text/plain": [
       "(2808, 2)"
      ]
     },
     "execution_count": 10,
     "metadata": {},
     "output_type": "execute_result"
    }
   ],
   "source": [
    "X_train.shape"
   ]
  },
  {
   "cell_type": "code",
   "execution_count": 11,
   "metadata": {},
   "outputs": [
    {
     "data": {
      "text/plain": [
       "(702, 2)"
      ]
     },
     "execution_count": 11,
     "metadata": {},
     "output_type": "execute_result"
    }
   ],
   "source": [
    "X_test.shape"
   ]
  },
  {
   "cell_type": "code",
   "execution_count": 8,
   "metadata": {},
   "outputs": [
    {
     "name": "stdout",
     "output_type": "stream",
     "text": [
      "[01:55:16] WARNING: C:/Jenkins/workspace/xgboost-win64_release_0.90/src/objective/regression_obj.cu:152: reg:linear is now deprecated in favor of reg:squarederror.\n",
      "[01:55:16] WARNING: C:/Jenkins/workspace/xgboost-win64_release_0.90/src/objective/regression_obj.cu:152: reg:linear is now deprecated in favor of reg:squarederror.\n",
      "[01:55:16] WARNING: C:/Jenkins/workspace/xgboost-win64_release_0.90/src/objective/regression_obj.cu:152: reg:linear is now deprecated in favor of reg:squarederror.\n"
     ]
    }
   ],
   "source": [
    "params = {\"objective\":\"reg:linear\",'colsample_bytree': 0.3,'learning_rate': 0.1,\n",
    "                'max_depth': 5, 'alpha': 10}\n",
    "\n",
    "cv_results = xgb.cv(dtrain=data_dmatrix, params=params, nfold=3,\n",
    "                    num_boost_round=50,early_stopping_rounds=10,metrics=\"rmse\", as_pandas=True, seed=123)"
   ]
  },
  {
   "cell_type": "code",
   "execution_count": 9,
   "metadata": {},
   "outputs": [
    {
     "data": {
      "text/html": [
       "<div>\n",
       "<style scoped>\n",
       "    .dataframe tbody tr th:only-of-type {\n",
       "        vertical-align: middle;\n",
       "    }\n",
       "\n",
       "    .dataframe tbody tr th {\n",
       "        vertical-align: top;\n",
       "    }\n",
       "\n",
       "    .dataframe thead th {\n",
       "        text-align: right;\n",
       "    }\n",
       "</style>\n",
       "<table border=\"1\" class=\"dataframe\">\n",
       "  <thead>\n",
       "    <tr style=\"text-align: right;\">\n",
       "      <th></th>\n",
       "      <th>train-rmse-mean</th>\n",
       "      <th>train-rmse-std</th>\n",
       "      <th>test-rmse-mean</th>\n",
       "      <th>test-rmse-std</th>\n",
       "    </tr>\n",
       "  </thead>\n",
       "  <tbody>\n",
       "    <tr>\n",
       "      <td>0</td>\n",
       "      <td>20.134703</td>\n",
       "      <td>0.061792</td>\n",
       "      <td>20.128484</td>\n",
       "      <td>0.108364</td>\n",
       "    </tr>\n",
       "    <tr>\n",
       "      <td>1</td>\n",
       "      <td>18.824236</td>\n",
       "      <td>0.520165</td>\n",
       "      <td>18.809740</td>\n",
       "      <td>0.383230</td>\n",
       "    </tr>\n",
       "    <tr>\n",
       "      <td>2</td>\n",
       "      <td>17.330294</td>\n",
       "      <td>0.837461</td>\n",
       "      <td>17.323078</td>\n",
       "      <td>0.691634</td>\n",
       "    </tr>\n",
       "    <tr>\n",
       "      <td>3</td>\n",
       "      <td>16.310685</td>\n",
       "      <td>1.209439</td>\n",
       "      <td>16.303740</td>\n",
       "      <td>1.076104</td>\n",
       "    </tr>\n",
       "    <tr>\n",
       "      <td>4</td>\n",
       "      <td>15.420634</td>\n",
       "      <td>1.577524</td>\n",
       "      <td>15.401327</td>\n",
       "      <td>1.472919</td>\n",
       "    </tr>\n",
       "  </tbody>\n",
       "</table>\n",
       "</div>"
      ],
      "text/plain": [
       "   train-rmse-mean  train-rmse-std  test-rmse-mean  test-rmse-std\n",
       "0        20.134703        0.061792       20.128484       0.108364\n",
       "1        18.824236        0.520165       18.809740       0.383230\n",
       "2        17.330294        0.837461       17.323078       0.691634\n",
       "3        16.310685        1.209439       16.303740       1.076104\n",
       "4        15.420634        1.577524       15.401327       1.472919"
      ]
     },
     "execution_count": 9,
     "metadata": {},
     "output_type": "execute_result"
    }
   ],
   "source": [
    "cv_results.head()"
   ]
  },
  {
   "cell_type": "code",
   "execution_count": 9,
   "metadata": {},
   "outputs": [
    {
     "name": "stdout",
     "output_type": "stream",
     "text": [
      "[01:55:19] WARNING: C:/Jenkins/workspace/xgboost-win64_release_0.90/src/objective/regression_obj.cu:152: reg:linear is now deprecated in favor of reg:squarederror.\n"
     ]
    }
   ],
   "source": [
    "xg_reg = xgb.train(params=params, dtrain=data_dmatrix, num_boost_round=10)"
   ]
  },
  {
   "cell_type": "code",
   "execution_count": 13,
   "metadata": {},
   "outputs": [],
   "source": [
    "# pip install graphviz\n",
    "import os\n",
    "os.environ[\"PATH\"] += os.pathsep + 'C:/users/gokul/appdata/local/continuum/anaconda3/envs/callforcode/lib/site-packages/graphviz'"
   ]
  },
  {
   "cell_type": "code",
   "execution_count": 18,
   "metadata": {},
   "outputs": [
    {
     "data": {
      "text/plain": [
       "array([27.063877], dtype=float32)"
      ]
     },
     "execution_count": 18,
     "metadata": {},
     "output_type": "execute_result"
    }
   ],
   "source": [
    "dd = pd.DataFrame({'elevation': [54.5533], 'precipitat': [9.0]})\n",
    "d1=xgb.DMatrix(data=dd)\n",
    "xg_reg.predict(d1)"
   ]
  },
  {
   "cell_type": "code",
   "execution_count": 19,
   "metadata": {},
   "outputs": [
    {
     "data": {
      "text/plain": [
       "array([10.493981 ,  5.8247805,  7.7548776,  5.2872334, 11.713658 ,\n",
       "       10.246678 ,  7.0829363,  5.8536587,  4.968905 ,  5.2192154,\n",
       "        7.694003 ,  5.8536587,  9.694671 , 15.557825 , 10.961555 ,\n",
       "        9.920526 ,  6.842968 ,  5.8078537,  7.898779 ,  7.7548776,\n",
       "        6.6043816, 10.951163 ,  5.729357 ,  6.251462 , 34.35122  ,\n",
       "        7.1156926,  8.442869 ,  5.8536587, 24.1912   ,  5.5083337,\n",
       "        6.9645495,  9.694671 ,  8.946135 ,  8.910442 , 12.22097  ,\n",
       "        6.8552094,  6.460101 ,  8.195567 ,  7.223373 ,  7.1349874,\n",
       "       12.111424 ,  5.8536587,  6.842968 , 22.123196 ,  7.7548776,\n",
       "        6.1312313,  5.729357 ,  6.779765 ,  9.920526 , 10.246678 ,\n",
       "       23.00554  ,  5.5083337, 11.255905 , 28.573181 ,  7.4202247,\n",
       "       10.789553 ,  5.1736817,  6.271961 , 10.961555 ,  9.094581 ,\n",
       "        6.672085 ,  7.0829363, 15.862591 , 12.473505 , 19.777851 ,\n",
       "       13.052598 , 24.1912   ,  9.164979 , 11.375905 ,  7.694003 ,\n",
       "        6.2210364,  7.48673  ,  8.195567 , 10.169858 ,  6.9645495,\n",
       "        4.718006 , 13.20047  ,  5.603077 ,  9.164979 ,  6.9645495,\n",
       "        9.075081 ,  6.251462 ,  5.333271 ,  6.1425066,  5.603077 ,\n",
       "        9.920526 ,  7.4202247, 19.299295 ,  7.4431047,  5.8536587,\n",
       "        8.766682 , 11.270049 , 23.373966 , 23.00554  , 14.5876875,\n",
       "        8.720736 ,  5.3521786, 12.917113 ,  5.795787 ,  6.5861144,\n",
       "        6.046685 , 10.594394 ,  9.694671 ,  8.195567 ,  7.298817 ,\n",
       "        7.5519733, 23.373966 ,  7.869414 ,  6.985303 , 18.444628 ,\n",
       "       11.082962 ,  6.842968 ,  6.460101 ,  6.460101 ,  8.720736 ,\n",
       "       25.90838  ,  6.8552094, 24.1912   ,  6.251462 ,  7.298817 ,\n",
       "        6.672085 , 13.496206 ,  5.603077 ,  6.1425066,  6.1425066,\n",
       "        5.603077 ,  6.5020337, 34.47263  ,  7.3773074,  9.349929 ,\n",
       "        6.251462 ,  6.299474 ,  6.5861144, 10.584342 ,  6.271961 ,\n",
       "        6.9645495,  4.968905 ,  6.9645495,  6.8552094,  8.233432 ,\n",
       "        9.094581 , 10.961555 ,  6.6043816,  6.251462 ,  7.694003 ,\n",
       "       25.429827 ,  7.4202247,  8.812321 , 17.49722  , 11.394772 ,\n",
       "        8.46758  ,  5.603077 , 10.557759 ,  7.4431047,  6.271961 ,\n",
       "        5.729357 ,  7.2154484, 21.479454 ,  7.298817 ,  6.779765 ,\n",
       "        7.223373 ,  9.694671 ,  6.7155695,  7.1156926, 10.246678 ,\n",
       "        9.920526 ,  6.842968 ,  7.869414 ,  6.7155695,  8.392136 ,\n",
       "        6.9645495,  9.920526 , 31.524748 , 32.43107  ,  9.816078 ,\n",
       "        7.0829363,  6.299474 , 16.235006 ,  6.7155695,  5.603077 ,\n",
       "        5.5083337,  4.5850425,  9.920526 , 33.468876 ,  6.1075153,\n",
       "        5.8078537,  6.1425066,  8.195567 , 13.360977 , 14.564432 ,\n",
       "        4.718006 ,  5.3521786,  7.0755205,  9.038177 ,  8.284455 ,\n",
       "        7.298817 ,  6.299474 ,  6.842968 ,  6.5020337,  8.812321 ,\n",
       "        7.5519733, 10.77735  ,  5.603077 ,  6.251462 , 19.144539 ,\n",
       "        7.2154484,  6.7155695,  9.694671 ,  7.0829363,  9.364329 ,\n",
       "        6.842968 ,  6.1425066, 33.468876 ,  7.4431047, 11.609239 ,\n",
       "        6.672085 ,  8.061441 , 14.085877 , 10.584342 ,  6.251462 ,\n",
       "        7.4431047,  6.1425066,  7.108366 , 11.710186 ,  6.046685 ,\n",
       "        7.8843327,  7.298817 , 33.468876 ,  9.961921 ,  9.920526 ,\n",
       "       13.496206 ,  6.672085 ,  7.0829363,  5.8078537, 32.43107  ,\n",
       "        5.8536587,  7.7548776, 11.145692 ,  9.038177 ,  6.557987 ,\n",
       "        6.046685 ,  6.9645495,  7.298817 ,  7.4202247,  7.75196  ,\n",
       "        8.958342 ,  7.4431047, 25.90838  ,  6.7155695, 28.573181 ,\n",
       "        8.637226 ,  6.842968 , 12.563536 , 12.013032 , 11.394772 ,\n",
       "       10.493981 ,  9.708759 ,  8.812321 ,  6.8315864,  9.694671 ,\n",
       "        6.8315864,  7.2154484,  6.251462 ,  6.046685 ,  6.3644137,\n",
       "       28.976973 , 23.373966 ,  6.672085 ,  6.9645495,  7.957869 ,\n",
       "       12.013032 ,  6.5861144, 24.1912   , 13.496206 ,  8.284455 ,\n",
       "        7.0829363,  7.0829363,  6.271961 ,  6.299474 ,  6.3644137,\n",
       "        6.1425066,  7.0829363,  6.251462 , 27.026306 , 11.6596985,\n",
       "       13.981549 ,  7.298817 ,  6.3650136,  5.729357 ,  5.8247805,\n",
       "        6.980588 ,  6.271961 , 12.013032 ,  6.046685 ,  7.3773074,\n",
       "        7.75196  ,  8.102385 , 22.601748 ,  7.108366 ,  7.6435585,\n",
       "        6.672085 ,  6.046685 , 12.636625 ,  6.271961 ,  7.898779 ,\n",
       "        6.5020337, 15.143525 , 11.392418 ,  8.648912 ,  8.195567 ,\n",
       "       22.601748 ,  6.5861144, 10.246678 ,  6.902561 ,  6.1425066,\n",
       "       36.76793  ,  6.046685 ,  6.9645495,  6.1425066,  7.3773074,\n",
       "        7.5337763,  9.608587 , 10.368086 ,  6.046685 ,  6.299474 ,\n",
       "        6.672085 , 11.6596985, 12.436872 ,  6.3650136,  6.145592 ,\n",
       "        8.442869 , 12.515218 ,  6.672085 , 10.169858 , 24.1912   ,\n",
       "       11.130684 ,  7.4431047,  8.46758  ,  9.164979 , 13.052598 ,\n",
       "        6.3650136,  6.251462 , 14.429739 ,  6.5657783, 10.961555 ,\n",
       "        6.460101 ,  6.3644137,  9.694671 ,  7.199951 ,  6.4550676,\n",
       "        6.2210364,  6.4550676, 11.97854  ,  7.001595 ,  6.8315864,\n",
       "        6.251462 ,  6.1425066, 11.145692 , 19.144539 , 10.961555 ,\n",
       "        6.299474 ,  7.298817 ,  8.097797 ,  7.2154484,  7.298817 ,\n",
       "       33.468876 ,  7.4202247, 13.886178 , 11.039084 , 11.6596985,\n",
       "       10.169858 ,  6.902561 ,  7.1156926,  6.672085 ,  6.037912 ,\n",
       "       12.917113 ,  6.251462 ,  6.779765 ,  6.672085 , 19.144539 ,\n",
       "       18.665985 ,  6.6043816,  4.8896627,  5.662823 ,  5.9238143,\n",
       "        9.694671 , 11.145692 , 10.246678 ,  5.8536587, 10.079205 ,\n",
       "        5.729357 , 12.917113 ,  6.980588 , 22.123196 ,  6.5020337,\n",
       "        8.812321 ,  8.466835 ,  6.672085 ,  7.298817 ,  6.672085 ,\n",
       "        6.3650136,  6.460101 ,  5.603077 ,  6.143657 , 24.1912   ,\n",
       "       11.02795  ,  6.2210364,  7.0829363, 10.961555 ,  6.037912 ,\n",
       "        7.4202247, 10.961555 ,  6.7155695,  7.223373 , 28.573181 ,\n",
       "        6.5020337,  6.046685 ,  6.5861144, 13.20047  , 23.712646 ,\n",
       "        6.5020337, 28.976973 ,  9.094581 , 32.003304 , 24.1912   ,\n",
       "        7.4202247, 13.052598 , 13.981549 ,  9.694671 , 13.981549 ,\n",
       "       12.515218 , 12.917113 ,  6.5020337,  6.5861144,  7.898779 ,\n",
       "        5.8078537, 10.493981 ,  6.458953 ,  7.7548776, 11.02795  ,\n",
       "        8.466835 ,  7.365089 ,  6.3650136,  9.364329 ,  6.980588 ,\n",
       "       22.123196 , 13.04209  ,  8.54607  , 10.951163 ,  5.8078537,\n",
       "        6.460101 , 32.43107  ,  6.271961 ,  6.672085 ,  6.458953 ,\n",
       "        9.349929 ,  6.6043816, 15.756452 ,  6.6043816,  8.102385 ,\n",
       "       24.1912   ,  8.46758  ,  6.046685 ,  5.795787 , 11.392418 ,\n",
       "        6.5861144,  8.233432 , 23.00554  , 19.144539 ,  7.7548776,\n",
       "        6.9645495, 20.76085  , 24.888075 ,  5.729357 ,  6.6043816,\n",
       "       28.573181 ,  6.5020337,  7.001595 ,  7.75196  , 21.479454 ,\n",
       "       19.144539 , 15.089633 , 10.594394 ,  6.7211637,  8.5432825,\n",
       "        7.2154484,  6.0114594, 25.429827 ,  8.195567 ,  5.603077 ,\n",
       "        6.251462 ,  7.6238303,  6.980588 ,  8.953672 , 11.713658 ,\n",
       "        8.195567 ,  6.9645495,  7.4202247,  7.298817 ,  8.5432825,\n",
       "        6.6043816,  6.5861144,  6.980588 ,  6.299474 ,  5.435619 ,\n",
       "        7.2154484, 12.515218 ,  6.143657 , 27.86812  ,  7.0829363,\n",
       "       28.573181 , 27.389566 ,  6.9645495,  6.9645495, 11.392418 ,\n",
       "        9.694671 ,  7.1997185,  6.609786 ,  6.9645495, 10.169858 ,\n",
       "        5.637789 ,  5.795787 ,  5.1736817,  7.5519733,  7.694003 ,\n",
       "        8.54607  , 10.493981 ,  6.779765 ,  7.4202247,  6.3650136,\n",
       "        6.251462 ,  6.9645495,  7.4431047, 24.888075 ,  7.5337763,\n",
       "       32.43107  , 12.013032 ,  5.8536587,  6.4550676,  7.2154484,\n",
       "        9.608587 ,  7.298817 , 11.713658 ,  6.460101 , 10.169858 ,\n",
       "        7.298817 ,  5.8536587,  8.302573 ,  5.603077 ,  7.0829363,\n",
       "       13.04209  ,  6.2210364, 11.713658 ,  5.981547 ,  6.9645495,\n",
       "       13.567291 , 18.130531 , 11.145692 ,  9.518313 ,  7.3101406,\n",
       "        5.729357 ,  7.3101406,  6.2210364,  6.8315864,  6.6043816,\n",
       "        6.9645495,  8.302573 ,  5.8078537,  8.946135 ,  8.46758  ,\n",
       "        5.1736817, 11.145692 ,  6.9645495, 22.895412 ,  8.442869 ,\n",
       "       24.1912   ,  6.9645495,  7.0829363, 10.079205 ,  5.795787 ,\n",
       "       12.962072 ,  4.718006 , 10.493981 ,  6.1075153,  8.910442 ,\n",
       "       13.052598 ,  7.298817 ,  8.946135 ,  6.8552094, 13.052598 ,\n",
       "        9.694671 , 19.777851 ,  7.869414 ,  5.1736817,  5.435619 ,\n",
       "        8.284455 ,  7.2154484,  4.968905 ,  5.9238143,  6.8315864,\n",
       "       10.493981 , 21.479454 ,  6.3644137, 12.962072 , 22.601748 ,\n",
       "        6.5861144,  5.729357 ,  9.694671 ,  8.530807 ,  7.4202247,\n",
       "        7.0829363, 10.246678 ,  6.9645495,  9.038177 ,  9.164979 ,\n",
       "        5.795787 ,  6.267959 ,  7.0829363,  7.898779 , 25.90838  ,\n",
       "        6.5861144,  8.195567 ,  6.9645495,  7.75196  ,  7.1997185,\n",
       "        6.271961 , 24.1912   ,  8.071324 ,  9.611632 ,  6.6043816,\n",
       "        6.251462 ,  7.223373 ,  8.910442 ,  7.199951 ,  9.694671 ,\n",
       "        9.290876 ,  7.75196  ,  7.3101406,  7.4202247,  6.6043816,\n",
       "        8.466835 ,  5.729357 ,  7.1156926,  7.6435585, 36.76793  ,\n",
       "        9.724493 ,  6.609786 ,  5.8078537, 13.20047  ,  8.0168   ,\n",
       "        8.910442 ,  7.0829363, 12.013032 , 12.515218 ,  5.9982595,\n",
       "       33.468876 , 19.144539 ,  7.0829363,  6.251462 ,  8.46758  ,\n",
       "        6.779765 , 21.479454 ,  7.001595 ,  6.6043816,  6.046685 ,\n",
       "        7.0829363,  8.442869 ,  7.2154484,  6.046685 , 28.573181 ,\n",
       "        6.1075153,  9.694671 ,  7.298817 ,  7.4202247,  6.842968 ,\n",
       "        6.7211637, 22.601748 ,  6.1425066,  7.4431047, 28.573181 ,\n",
       "        6.672085 ,  6.7155695,  6.6043816, 11.039084 , 22.123196 ,\n",
       "        7.0829363,  8.302573 , 34.35122  ,  9.164979 ,  6.251462 ,\n",
       "       10.594394 ,  6.37886  , 28.976973 ,  7.4202247,  7.4202247,\n",
       "        7.223373 ,  6.8552094,  8.958342 ,  5.8078537,  6.9645495,\n",
       "       28.976973 , 10.961555 ], dtype=float32)"
      ]
     },
     "execution_count": 19,
     "metadata": {},
     "output_type": "execute_result"
    }
   ],
   "source": [
    "preds"
   ]
  },
  {
   "cell_type": "code",
   "execution_count": 26,
   "metadata": {},
   "outputs": [
    {
     "data": {
      "text/plain": [
       "{'elevation': 68, 'precipitat': 34}"
      ]
     },
     "execution_count": 26,
     "metadata": {},
     "output_type": "execute_result"
    }
   ],
   "source": [
    "xg_reg"
   ]
  },
  {
   "cell_type": "code",
   "execution_count": 6,
   "metadata": {},
   "outputs": [],
   "source": [
    "locality_data = pd.read_csv('./LocalityDataset.csv')"
   ]
  },
  {
   "cell_type": "code",
   "execution_count": 9,
   "metadata": {},
   "outputs": [
    {
     "name": "stdout",
     "output_type": "stream",
     "text": [
      "            lat         lon  flood_heig  elevation  precipitat\n",
      "0     14.640394  121.055708           0  54.553295         9.0\n",
      "1     14.698299  121.002132           0  21.856272        10.0\n",
      "2     14.698858  121.100261           0  69.322807        16.0\n",
      "3     14.571310  120.983334           0  10.987241         8.0\n",
      "4     14.762232  121.075735           0  87.889847        18.0\n",
      "...         ...         ...         ...        ...         ...\n",
      "3505  14.565436  121.132076           8  12.006505        14.0\n",
      "3506  14.633785  120.978465           8   8.572678         8.0\n",
      "3507  14.563166  121.121095           8   5.772885        13.0\n",
      "3508  14.549214  121.028014           8  22.342602         7.0\n",
      "3509  14.657013  121.054423           8  53.466404         9.0\n",
      "\n",
      "[3510 rows x 5 columns]\n"
     ]
    },
    {
     "data": {
      "image/png": "[encoded data removed]",
      "text/plain": [
       "<Figure size 432x288 with 1 Axes>"
      ]
     },
     "metadata": {
      "needs_background": "light"
     },
     "output_type": "display_data"
    },
    {
     "data": {
      "image/png": "[encoded data removed]",
      "text/plain": [
       "<Figure size 432x288 with 1 Axes>"
      ]
     },
     "metadata": {
      "needs_background": "light"
     },
     "output_type": "display_data"
    },
    {
     "name": "stdout",
     "output_type": "stream",
     "text": [
      "Intercept: \n",
      " 1.9863232583123527\n",
      "Coefficients: \n",
      " [-0.00716914  0.0432156 ]\n",
      "flood_heig: \n",
      " [6.56141491]\n"
     ]
    },
    {
     "name": "stderr",
     "output_type": "stream",
     "text": [
      "C:\\Users\\gokul\\AppData\\Local\\Continuum\\anaconda3\\envs\\callForCode\\lib\\site-packages\\numpy\\core\\fromnumeric.py:2495: FutureWarning: Method .ptp is deprecated and will be removed in a future version. Use numpy.ptp instead.\n",
      "  return ptp(axis=axis, out=out, **kwargs)\n"
     ]
    }
   ],
   "source": [
    "import pandas as pd\n",
    "import matplotlib.pyplot as plt\n",
    "from pandas import DataFrame\n",
    "from sklearn import linear_model\n",
    "import statsmodels.api as sm\n",
    "# import tkinter as tk\n",
    "\n",
    "water_level = pd.read_csv(\"AEGISDataset.csv\")\n",
    "\n",
    "water_level.head()\n",
    "#print(water_level)\n",
    "df = DataFrame(water_level,columns=['lat','lon','flood_heig','elevation','precipitat'])\n",
    "print (df)\n",
    "plt.scatter(df['elevation'], df['precipitat'], color='red')\n",
    "plt.title('precipitation Vs Elevation', fontsize=14)\n",
    "plt.xlabel('Elevation', fontsize=14)\n",
    "plt.ylabel('Flood Height', fontsize=14)\n",
    "plt.grid(True)\n",
    "plt.show()\n",
    "\n",
    "plt.scatter(df['precipitat'], df['elevation'], color='green')\n",
    "plt.title('precipitation Vs Elevation', fontsize=14)\n",
    "plt.xlabel('precipitation', fontsize=14)\n",
    "plt.ylabel('Flood Height', fontsize=14)\n",
    "plt.grid(True)\n",
    "plt.show()\n",
    "\n",
    "X = df[['elevation','precipitat']] # here we have 2 variables for multiple regression. If you just want to use one variable for simple linear regression, then use X = df['Interest_Rate'] for example.Alternatively, you may add additional variables within the brackets\n",
    "Y = df['flood_heig']\n",
    "\n",
    "# with sklearn\n",
    "regr = linear_model.LinearRegression()\n",
    "regr.fit(X, Y)\n",
    "\n",
    "print('Intercept: \\n', regr.intercept_)\n",
    "print('Coefficients: \\n', regr.coef_)\n",
    "\n",
    "\n",
    "# prediction with sklearn\n",
    "New_elevation = 85.19583\n",
    "New_precipitation = 120\n",
    "print ('flood_heig: \\n', regr.predict([[New_elevation ,New_precipitation]]))\n",
    "\n",
    "\n",
    "# with statsmodels\n",
    "X = sm.add_constant(X) # adding a constant\n",
    "\n",
    "model = sm.OLS(Y, X).fit()\n",
    "predictions = model.predict(X)\n",
    "\n",
    "\n",
    "#tkinter GUI\n",
    "root= tk.Tk()\n",
    "\n",
    "canvas1 = tk.Canvas(root, width = 1200, height = 450)\n",
    "canvas1.pack()\n",
    "\n",
    "# with sklearn\n",
    "Intercept_result = ('Intercept: ', regr.intercept_)\n",
    "label_Intercept = tk.Label(root, text=Intercept_result, justify = 'center')\n",
    "canvas1.create_window(260, 220, window=label_Intercept)\n",
    "\n",
    "# with sklearn\n",
    "Coefficients_result  = ('Coefficients: ', regr.coef_)\n",
    "label_Coefficients = tk.Label(root, text=Coefficients_result, justify = 'center')\n",
    "canvas1.create_window(260, 240, window=label_Coefficients)\n",
    "\n",
    "# with statsmodels\n",
    "print_model = model.summary()\n",
    "label_model = tk.Label(root, text=print_model, justify = 'center', relief = 'solid', bg='LightSkyBlue1')\n",
    "canvas1.create_window(800, 220, window=label_model)\n",
    "\n",
    "\n",
    "# New_Interest_Rate label and input box\n",
    "label1 = tk.Label(root, text='Type elevation: ')\n",
    "canvas1.create_window(100, 100, window=label1)\n",
    "\n",
    "entry1 = tk.Entry (root) # create 1st entry box\n",
    "canvas1.create_window(270, 100, window=entry1)\n",
    "\n",
    "# New_Unemployment_Rate label and input box\n",
    "label2 = tk.Label(root, text=' Type precipitation: ')\n",
    "canvas1.create_window(120, 120, window=label2)\n",
    "\n",
    "entry2 = tk.Entry (root) # create 2nd entry box\n",
    "canvas1.create_window(270, 120, window=entry2)\n",
    "\n",
    "\n",
    "def values():\n",
    "    global New_elevation #our 1st input variable\n",
    "    New_elevation = float(entry1.get())\n",
    "\n",
    "    global New_precipitation #our 2nd input variable\n",
    "    New_precipitation = float(entry2.get())\n",
    "\n",
    "    Prediction_result  = ('Predicted Flood_height: ', regr.predict([[New_elevation ,New_precipitation]]))\n",
    "    label_Prediction = tk.Label(root, text= Prediction_result, bg='orange')\n",
    "    canvas1.create_window(260, 280, window=label_Prediction)\n",
    "\n",
    "button1 = tk.Button (root, text='Predict Flood Height',command=values, bg='orange') # button to call the 'values' command above\n",
    "canvas1.create_window(270, 150, window=button1)\n",
    "\n",
    "\n",
    "root.mainloop()"
   ]
  },
  {
   "cell_type": "code",
   "execution_count": null,
   "metadata": {},
   "outputs": [],
   "source": [
    "water_level = pd.read_csv(\"AEGISDataset.csv\")\n",
    "pp_level = pd.read_csv(\"newset.csv\")\n",
    "water_level.head()\n",
    "pp_level.head()\n",
    "#print(water_level)\n",
    "df = DataFrame(water_level,columns=['lat','lon','flood_heig','elevation','precipitat'])\n",
    "\n",
    "gg= DataFrame(pp_level,columns=['Lattitude','Longitude','Precipitation','Elevation '])\n",
    "print (gg)"
   ]
  },
  {
   "cell_type": "code",
   "execution_count": 11,
   "metadata": {},
   "outputs": [
    {
     "name": "stdout",
     "output_type": "stream",
     "text": [
      " * Serving Flask app \"__main__\" (lazy loading)\n",
      " * Environment: production\n",
      "   WARNING: This is a development server. Do not use it in a production deployment.\n",
      "   Use a production WSGI server instead.\n",
      " * Debug mode: off\n"
     ]
    },
    {
     "name": "stderr",
     "output_type": "stream",
     "text": [
      " * Running on http://127.0.0.1:5011/ (Press CTRL+C to quit)\n",
      "127.0.0.1 - - [14/Sep/2019 11:22:45] \"GET /predict?lat=234&long=23424 HTTP/1.1\" 200 -\n"
     ]
    },
    {
     "name": "stdout",
     "output_type": "stream",
     "text": [
      "234\n"
     ]
    }
   ],
   "source": [
    "from flask import Flask, jsonify, request\n",
    "app = Flask(__name__)\n",
    "@app.route('/predict', methods=['get'])\n",
    "def predict():\n",
    "    latt = request.args.get('lat')\n",
    "    long = request.args.get('long')\n",
    "    print(latt)\n",
    "    env_pp = gg.loc[gg['Lattitude'] == 14.64039374]\n",
    "    query_df = [env_pp['Elevation'] ,env_pp['Precipitation']]\n",
    "    prediction = regr.predict([query_df])\n",
    "    if prediction > PREDICTION_THRESHOLD:\n",
    "        #get resources from DB\n",
    "        donors_data = requests.get(RESOURCES_INFO_ENDPOINT)\n",
    "        print(donors_data)\n",
    "        return jsonify({'prediction': list(prediction),\n",
    "                       'donors_data': donors_data})\n",
    "\n",
    "if __name__ == \"__main__\":\n",
    "    app.run(port=5011)"
   ]
  },
  {
   "cell_type": "code",
   "execution_count": 18,
   "metadata": {},
   "outputs": [
    {
     "name": "stdout",
     "output_type": "stream",
     "text": [
      "    Lattitude   Longitude  Precipitation  Elevation \n",
      "0   14.640394  121.055708      54.553295           9\n",
      "1   14.653677  121.021332      27.527657           9\n",
      "2   14.518564  121.073459       6.306269           9\n",
      "3   14.509733  121.065512       7.486139           9\n",
      "4   14.627683  120.992561      10.424126           8\n",
      "5   14.516661  121.072550       6.791687           9\n",
      "6   14.525169  121.074017       6.196056           9\n",
      "7   14.534339  121.009837       8.168192           7\n",
      "8   14.618302  121.035172      27.511301           8\n",
      "9   14.665284  121.031723      37.216305           9\n",
      "10  14.630504  121.011004      13.523409           8\n",
      "11  14.629331  121.012522      15.569142           8\n"
     ]
    }
   ],
   "source": []
  },
  {
   "cell_type": "code",
   "execution_count": 24,
   "metadata": {},
   "outputs": [],
   "source": []
  },
  {
   "cell_type": "code",
   "execution_count": 26,
   "metadata": {},
   "outputs": [
    {
     "data": {
      "text/html": [
       "<div>\n",
       "<style scoped>\n",
       "    .dataframe tbody tr th:only-of-type {\n",
       "        vertical-align: middle;\n",
       "    }\n",
       "\n",
       "    .dataframe tbody tr th {\n",
       "        vertical-align: top;\n",
       "    }\n",
       "\n",
       "    .dataframe thead th {\n",
       "        text-align: right;\n",
       "    }\n",
       "</style>\n",
       "<table border=\"1\" class=\"dataframe\">\n",
       "  <thead>\n",
       "    <tr style=\"text-align: right;\">\n",
       "      <th></th>\n",
       "      <th>Lattitude</th>\n",
       "      <th>Longitude</th>\n",
       "      <th>Precipitation</th>\n",
       "      <th>Elevation</th>\n",
       "    </tr>\n",
       "  </thead>\n",
       "  <tbody>\n",
       "    <tr>\n",
       "      <td>0</td>\n",
       "      <td>14.640394</td>\n",
       "      <td>121.055708</td>\n",
       "      <td>54.553295</td>\n",
       "      <td>9</td>\n",
       "    </tr>\n",
       "  </tbody>\n",
       "</table>\n",
       "</div>"
      ],
      "text/plain": [
       "   Lattitude   Longitude  Precipitation  Elevation \n",
       "0  14.640394  121.055708      54.553295           9"
      ]
     },
     "execution_count": 26,
     "metadata": {},
     "output_type": "execute_result"
    }
   ],
   "source": []
  }
 ],
 "metadata": {
  "kernelspec": {
   "display_name": "Python 3",
   "language": "python",
   "name": "python3"
  },
  "language_info": {
   "codemirror_mode": {
    "name": "ipython",
    "version": 3
   },
   "file_extension": ".py",
   "mimetype": "text/x-python",
   "name": "python",
   "nbconvert_exporter": "python",
   "pygments_lexer": "ipython3",
   "version": "3.7.4"
  }
 },
 "nbformat": 4,
 "nbformat_minor": 2
}
